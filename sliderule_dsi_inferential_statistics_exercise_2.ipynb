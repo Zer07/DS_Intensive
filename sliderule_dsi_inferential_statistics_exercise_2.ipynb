{
 "cells": [
  {
   "cell_type": "markdown",
   "metadata": {},
   "source": [
    "\n",
    "### Examining racial discrimination in the US job market\n",
    "\n",
    "#### Background\n",
    "Racial discrimination continues to be pervasive in cultures throughout the world. Researchers examined the level of racial discrimination in the United States labor market by randomly assigning identical résumés black-sounding or white-sounding names and observing the impact on requests for interviews from employers.\n",
    "\n",
    "#### Data\n",
    "In the dataset provided, each row represents a resume. The 'race' column has two values, 'b' and 'w', indicating black-sounding and white-sounding. The column 'call' has two values, 1 and 0, indicating whether the resume received a call from employers or not.\n",
    "\n",
    "Note that the 'b' and 'w' values in race are assigned randomly to the resumes.\n",
    "\n",
    "#### Exercise\n",
    "You will perform a statistical analysis to establish whether race has a significant impact on the rate of callbacks for resumes.\n",
    "\n",
    "Answer the following questions **in this notebook below and submit to your Github account**. \n",
    "\n",
    "   1. What test is appropriate for this problem? Does CLT apply?\n",
    "   2. What are the null and alternate hypotheses?\n",
    "   3. Compute margin of error, confidence interval, and p-value.\n",
    "   4. Discuss statistical significance.\n",
    "\n",
    "You can include written notes in notebook cells using Markdown: \n",
    "   - In the control panel at the top, choose Cell > Cell Type > Markdown\n",
    "   - Markdown syntax: http://nestacms.com/docs/creating-content/markdown-cheat-sheet\n",
    "\n",
    "\n",
    "#### Resources\n",
    "+ Experiment information and data source: http://www.povertyactionlab.org/evaluation/discrimination-job-market-united-states\n",
    "+ Scipy statistical methods: http://docs.scipy.org/doc/scipy/reference/stats.html \n",
    "+ Markdown syntax: http://nestacms.com/docs/creating-content/markdown-cheat-sheet\n",
    "\n",
    "****"
   ]
  },
  {
   "cell_type": "code",
   "execution_count": 260,
   "metadata": {
    "collapsed": false
   },
   "outputs": [],
   "source": [
    "%matplotlib inline\n",
    "import pandas as pd\n",
    "import numpy as np\n",
    "from scipy import stats \n",
    "import matplotlib.pyplot as plt\n",
    "\n",
    "\n",
    "# some nicer colors from http://colorbrewer2.org/\n",
    "COLOR1 = '#7fc97f'\n",
    "COLOR2 = '#beaed4'\n",
    "COLOR3 = '#fdc086'\n",
    "COLOR4 = '#ffff99'\n",
    "COLOR5 = '#386cb0'"
   ]
  },
  {
   "cell_type": "code",
   "execution_count": 261,
   "metadata": {
    "collapsed": false
   },
   "outputs": [],
   "source": [
    "data = pd.io.stata.read_stata('data/us_job_market_discrimination.dta')\n"
   ]
  },
  {
   "cell_type": "code",
   "execution_count": 262,
   "metadata": {
    "collapsed": false
   },
   "outputs": [],
   "source": [
    "# number of callbacks for balck-sounding names\n",
    "bc=sum(data[data.race=='b'].call)\n"
   ]
  },
  {
   "cell_type": "code",
   "execution_count": 263,
   "metadata": {
    "collapsed": false
   },
   "outputs": [
    {
     "data": {
      "text/plain": [
       "array([ 157.,  235.])"
      ]
     },
     "execution_count": 263,
     "metadata": {},
     "output_type": "execute_result"
    }
   ],
   "source": [
    "# number of callbacks for balck-sounding names\n",
    "wc=sum(data[data.race=='w'].call)\n",
    "\n",
    "call_data=np.array([bc,wc])\n",
    "\n",
    "# total number of calls\n",
    "N=wc+bc\n",
    "\n",
    "call_data"
   ]
  },
  {
   "cell_type": "code",
   "execution_count": 278,
   "metadata": {
    "collapsed": false
   },
   "outputs": [
    {
     "name": "stdout",
     "output_type": "stream",
     "text": [
      "N * p =  157.0 \n",
      "N(1 - p) =  235.0\n"
     ]
    }
   ],
   "source": [
    "# sample mean proportion of calls for black-sounding names\n",
    "p=bc/N\n",
    "\n",
    "#Rule of thumb test for CLT applicability: Np AND Nq >10\n",
    "\n",
    "Np=p*N\n",
    "\n",
    "Nq=N * (1-p)\n",
    "\n",
    "\n",
    "print(\"N * p = \", Np, '\\n' \"N(1 - p) = \", Nq)"
   ]
  },
  {
   "cell_type": "markdown",
   "metadata": {
    "collapsed": true
   },
   "source": [
    "## Q1 Response: \n",
    "\n",
    "The nature of callback data is binary. \n",
    "\n",
    "The problem can be solved through the statistical analysis of proportions. The distribution of sample proportion means are approximately normal for large sample sizes, where the mean value is not close to the extreme readings of 0 or 1. Normal distribution can be used to approximate the population mean distribution if both N x p and N(1 - p) are greater than 10 [where N=sample size and p=proportion mean]. \n",
    "\n",
    "In our case both N x p and  N (1 - p) are well above 10, which means we can use CLT to approximate sampling distribution of p.  \n"
   ]
  },
  {
   "cell_type": "markdown",
   "metadata": {},
   "source": [
    "## Q2 Response:\n",
    "\n",
    "We want to analyze whether the proportion of calls for black-sounding names is due to chance. In the context of this exercise We can assign 1 for every call a black-sounding name and zero for \n",
    "\n",
    "\n",
    "If black-sounding names had the same (or greater) chance of being called as white-sounding names, their proportion would be close to or above 0.5. This is our null hypothesis. Alternative hypothesis will be that proportion calls for black-sounding names is less than 0.5. \n",
    "\n",
    "H0: p * N >= 0.5 or (1-p)\n",
    "\n",
    "H1: p * N < 0.5 or (1-p)\n",
    "\n",
    "\n"
   ]
  },
  {
   "cell_type": "code",
   "execution_count": 296,
   "metadata": {
    "collapsed": false
   },
   "outputs": [
    {
     "name": "stdout",
     "output_type": "stream",
     "text": [
      "Z-score:  -3.90156062425\n",
      "P-value:  0.0\n",
      "Standard Error:  0.051\n",
      "95% CI:  [ 128.  173.]\n"
     ]
    },
    {
     "data": {
      "text/plain": [
       "196.0"
      ]
     },
     "execution_count": 296,
     "metadata": {},
     "output_type": "execute_result"
    }
   ],
   "source": [
    "#fig, ax = plt.subplots(1, 1)\n",
    "\n",
    "# Significance level: 0.05\n",
    "# Type of hypothesis test: one-tailed\n",
    "# Confidence Interval: 95 %\n",
    "\n",
    "#Analysis Steps\n",
    "# 1. calculate sample statistics:\n",
    "\n",
    "pp = (p * Np + (1-p) * Nq) / (Np + Nq) # pooled probability\n",
    "\n",
    "SE = round(np.sqrt(p * ( 1 - p ) * ( (1/Np) + (1/Nq) )), 3) # standard error\n",
    "\n",
    "\n",
    "#2. Calculate Z statistic, p value and 95% confidence interval\n",
    "\n",
    "z = (p - (1-p)) / SE\n",
    "\n",
    "p_value = round(stats.norm.sf(abs(z)), 4)\n",
    "\n",
    "r = binom.rvs(N, p, size=1000)\n",
    "\n",
    "CI=np.percentile(r, [0, 95])\n",
    "\n",
    "print('Z-score: ', z)\n",
    "print('P-value: ', p_value)\n",
    "print('Standard Error: ', SE)\n",
    "print('95% CI: ', CI)\n",
    "N/2"
   ]
  },
  {
   "cell_type": "markdown",
   "metadata": {},
   "source": [
    "## Q3 Response:\n",
    "\n",
    "Results show that under normality assumption with 5% level of significance:\n",
    "\n",
    "1. The the low sample mean for black calls is unlikely be explained by randomness.\n",
    "2. High z-score and low p-value confirm this\n",
    "3. 95% confidence interval falls indicates that true mean for black calls lies between 127 and 173 which is below the mid-point for the sample size N/2= 196.\n",
    "\n",
    "All this leads to the conclusion that the null hypothesis can be rejected.\n",
    "\n",
    "\n",
    "\n"
   ]
  },
  {
   "cell_type": "code",
   "execution_count": null,
   "metadata": {
    "collapsed": true
   },
   "outputs": [],
   "source": []
  }
 ],
 "metadata": {
  "kernelspec": {
   "display_name": "Python 3",
   "language": "python",
   "name": "python3"
  },
  "language_info": {
   "codemirror_mode": {
    "name": "ipython",
    "version": 3
   },
   "file_extension": ".py",
   "mimetype": "text/x-python",
   "name": "python",
   "nbconvert_exporter": "python",
   "pygments_lexer": "ipython3",
   "version": "3.5.1"
  }
 },
 "nbformat": 4,
 "nbformat_minor": 0
}
