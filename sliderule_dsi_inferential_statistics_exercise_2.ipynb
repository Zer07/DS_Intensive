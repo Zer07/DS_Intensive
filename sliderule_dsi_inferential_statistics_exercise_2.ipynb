{
 "cells": [
  {
   "cell_type": "markdown",
   "metadata": {},
   "source": [
    "\n",
    "### Examining racial discrimination in the US job market\n",
    "\n",
    "#### Background\n",
    "Racial discrimination continues to be pervasive in cultures throughout the world. Researchers examined the level of racial discrimination in the United States labor market by randomly assigning identical résumés black-sounding or white-sounding names and observing the impact on requests for interviews from employers.\n",
    "\n",
    "#### Data\n",
    "In the dataset provided, each row represents a resume. The 'race' column has two values, 'b' and 'w', indicating black-sounding and white-sounding. The column 'call' has two values, 1 and 0, indicating whether the resume received a call from employers or not.\n",
    "\n",
    "Note that the 'b' and 'w' values in race are assigned randomly to the resumes.\n",
    "\n",
    "#### Exercise\n",
    "You will perform a statistical analysis to establish whether race has a significant impact on the rate of callbacks for resumes.\n",
    "\n",
    "Answer the following questions **in this notebook below and submit to your Github account**. \n",
    "\n",
    "   1. What test is appropriate for this problem? Does CLT apply?\n",
    "   2. What are the null and alternate hypotheses?\n",
    "   3. Compute margin of error, confidence interval, and p-value.\n",
    "   4. Discuss statistical significance.\n",
    "\n",
    "You can include written notes in notebook cells using Markdown: \n",
    "   - In the control panel at the top, choose Cell > Cell Type > Markdown\n",
    "   - Markdown syntax: http://nestacms.com/docs/creating-content/markdown-cheat-sheet\n",
    "\n",
    "\n",
    "#### Resources\n",
    "+ Experiment information and data source: http://www.povertyactionlab.org/evaluation/discrimination-job-market-united-states\n",
    "+ Scipy statistical methods: http://docs.scipy.org/doc/scipy/reference/stats.html \n",
    "+ Markdown syntax: http://nestacms.com/docs/creating-content/markdown-cheat-sheet\n",
    "\n",
    "****"
   ]
  },
  {
   "cell_type": "code",
   "execution_count": 43,
   "metadata": {
    "collapsed": false
   },
   "outputs": [],
   "source": [
    "%matplotlib inline\n",
    "import pandas as pd\n",
    "import numpy as np\n",
    "from scipy import stats \n",
    "import matplotlib.pyplot as plt\n",
    "\n",
    "\n",
    "# some nicer colors from http://colorbrewer2.org/\n",
    "COLOR1 = '#7fc97f'\n",
    "COLOR2 = '#beaed4'\n",
    "COLOR3 = '#fdc086'\n",
    "COLOR4 = '#ffff99'\n",
    "COLOR5 = '#386cb0'"
   ]
  },
  {
   "cell_type": "code",
   "execution_count": 44,
   "metadata": {
    "collapsed": false
   },
   "outputs": [],
   "source": [
    "data = pd.io.stata.read_stata('data/us_job_market_discrimination.dta')\n"
   ]
  },
  {
   "cell_type": "code",
   "execution_count": 45,
   "metadata": {
    "collapsed": false
   },
   "outputs": [],
   "source": [
    "#create a table with race and call columns\n",
    "data0=data[['race', 'call']]\n",
    "\n",
    "# number of callbacks for balck-sounding names\n",
    "bc=sum(data0[data0.race=='b'].call)\n",
    "\n",
    "#total number of resumes with black-sounding names\n",
    "tb=len(data0[data0.race == 'b'])\n",
    "\n"
   ]
  },
  {
   "cell_type": "code",
   "execution_count": 46,
   "metadata": {
    "collapsed": false
   },
   "outputs": [],
   "source": [
    "# number of callbacks for balck-sounding names\n",
    "wc=sum(data0[data0.race=='w'].call)\n",
    "\n",
    "#total number of resumes with white-sounding names\n",
    "tw=len(data0[data0.race == 'w'])\n"
   ]
  },
  {
   "cell_type": "code",
   "execution_count": 47,
   "metadata": {
    "collapsed": false
   },
   "outputs": [
    {
     "name": "stdout",
     "output_type": "stream",
     "text": [
      "N * p =  157.0 \n",
      "N(1 - p) =  2278.0\n"
     ]
    }
   ],
   "source": [
    "# proportion of calls for black-sounding names\n",
    "pb0=bc/tb\n",
    "\n",
    "#no callbacks: black\n",
    "pb1=(1-pb0)\n",
    "\n",
    "# proportion of calls for white-sounding names\n",
    "pw0=wc/tw\n",
    "\n",
    "#no callbacks: white\n",
    "pw1=(1-pw0)\n",
    "\n",
    "#Rule of thumb test for CLT applicability: Np and N(1-p) >10\n",
    "\n",
    "Np=pb0*tb\n",
    "\n",
    "Nq=tb * (1-pb0)\n",
    "\n",
    "print(\"N * p = \", Np, '\\n' \"N(1 - p) = \", Nq)"
   ]
  },
  {
   "cell_type": "markdown",
   "metadata": {
    "collapsed": true
   },
   "source": [
    "## Q1 Response: \n",
    "\n",
    "The nature of callback data is binary. \n",
    "\n",
    "The problem can be solved through the statistical analysis of proportions. The distribution of sample proportion means are approximately normal for large sample sizes, where the mean value is not close to the extreme readings of 0 or 1. Normal distribution can be used to approximate the population mean distribution if both N x p and N(1 - p) are greater than 10 [where N=sample size and p=proportion mean]. \n",
    "\n",
    "In our case both N x p and  N (1 - p) are well above 10, which means we can use CLT to approximate sampling distribution of p.  \n"
   ]
  },
  {
   "cell_type": "markdown",
   "metadata": {},
   "source": [
    "## Q2 Response:\n",
    "\n",
    "We want to analyze whether the proportion of calls for black-sounding names is due to chance. \n",
    "\n",
    "This is our null hypothesis: Black-sounding names have the same chance of being called as white-sounding names. Alternative hypothesis: black-sounding names have less chance of being called than white-sounding names. \n",
    "\n",
    "H0: pb0  = pw0\n",
    "\n",
    "H1: pb0 != pw0"
   ]
  },
  {
   "cell_type": "code",
   "execution_count": 76,
   "metadata": {
    "collapsed": false
   },
   "outputs": [
    {
     "name": "stdout",
     "output_type": "stream",
     "text": [
      "Black-sounding name calls (proportion):  0.064\n",
      "Black-sounding name calls (proportion):  0.097 \n",
      "\n",
      "P-value (%):  1.93128260376e-05\n",
      "Margin of Error (%):  0.78\n",
      "95% CI:  0.016 - 0.048\n"
     ]
    }
   ],
   "source": [
    "# Significance level: 0.05\n",
    "# Type of hypothesis test: one-tailed\n",
    "# Confidence Interval: 95 %\n",
    "\n",
    "#Analysis Steps\n",
    "# 1. calculate difference in proportion between calls for black-sounding and white-sounding names:\n",
    "\n",
    "Pbw=np.abs(pb0-pw0)\n",
    "\n",
    "\n",
    "#2. Calculate the standard deviations for black and white calls:\n",
    "\n",
    "std_b = pb0 *(1 - pb0)\n",
    "std_w = pw0 *(1 - pw0)\n",
    "\n",
    "#3.standard error of Pbw, p value and 95% confidence interval:\n",
    "\n",
    "Pbw_std = np.sqrt((std_b/tb) + (std_w/tw))\n",
    "\n",
    "#4.Margin of error:\n",
    "\n",
    "ME= np.round(Pbw_std, 4)*100\n",
    "\n",
    "p_value = stats.norm.cdf(0, Pbw, Pbw_std)\n",
    "\n",
    "\n",
    "CI25=np.round((Pbw - Pbw_std * 2),3)\n",
    "CI975 =np.round((Pbw + Pbw_std * 2),3)\n",
    "\n",
    "\n",
    "\n",
    "print('Black-sounding name calls (proportion): ', np.round(pb0, 3))\n",
    "print('Black-sounding name calls (proportion): ', np.round(pw0, 3),'\\n' )\n",
    "\n",
    "print('P-value (%): ', p_value)\n",
    "print('Margin of Error (%): ', ME)\n",
    "print('95% CI: ', CI25, '-' , CI975 ) #95% of the population falls within 2 standard deviations from the mean. \n"
   ]
  },
  {
   "cell_type": "markdown",
   "metadata": {},
   "source": [
    "## Q3 Response:\n",
    "\n",
    "Under normality assumption with 5% level of significance:\n",
    "\n",
    "1. The the low sample mean for black calls is unlikely be explained by randomness as shown by a low p value.\n",
    "2. 95% confidence interval shows that true mean for black call proportion lies between 1.68 and 4.8 percent.\n",
    "\n",
    "Null hypothesis can be rejected. The statistical analysis shows a likely bias against blacks.\n",
    "\n",
    "\n",
    "\n"
   ]
  },
  {
   "cell_type": "code",
   "execution_count": null,
   "metadata": {
    "collapsed": true
   },
   "outputs": [],
   "source": []
  }
 ],
 "metadata": {
  "kernelspec": {
   "display_name": "Python 3",
   "language": "python",
   "name": "python3"
  },
  "language_info": {
   "codemirror_mode": {
    "name": "ipython",
    "version": 3
   },
   "file_extension": ".py",
   "mimetype": "text/x-python",
   "name": "python",
   "nbconvert_exporter": "python",
   "pygments_lexer": "ipython3",
   "version": "3.5.1"
  }
 },
 "nbformat": 4,
 "nbformat_minor": 0
}
