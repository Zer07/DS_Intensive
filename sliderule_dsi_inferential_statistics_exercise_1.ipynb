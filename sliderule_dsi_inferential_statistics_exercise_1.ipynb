{
 "cells": [
  {
   "cell_type": "markdown",
   "metadata": {},
   "source": [
    "## What is the true normal human body temperature? \n",
    "\n",
    "#### Background\n",
    "\n",
    "The mean normal body temperature was held to be 37$^{\\circ}$C or 98.6$^{\\circ}$F for more than 120 years since it was first conceptualized and reported by Carl Wunderlich in a famous 1868 book. In 1992, this value was revised to 36.8$^{\\circ}$C or 98.2$^{\\circ}$F. \n",
    "\n",
    "#### Exercise\n",
    "In this exercise, you will analyze a dataset of human body temperatures and employ the concepts of hypothesis testing, confidence intervals, and statistical significance.\n",
    "\n",
    "Answer the following questions **in this notebook below and submit to your Github account**. \n",
    "\n",
    "1.  Is the distribution of body temperatures normal? \n",
    "    - Remember that this is a condition for the CLT, and hence the statistical tests we are using, to apply. \n",
    "2.  Is the true population mean really 98.6 degrees F?\n",
    "    - Bring out the one sample hypothesis test! In this situation, is it approriate to apply a z-test or a t-test? How will the result be different?\n",
    "3.  At what temperature should we consider someone's temperature to be \"abnormal\"?\n",
    "    - Start by computing the margin of error and confidence interval.\n",
    "4.  Is there a significant difference between males and females in normal temperature?\n",
    "    - Set up and solve for a two sample hypothesis testing.\n",
    "\n",
    "You can include written notes in notebook cells using Markdown: \n",
    "   - In the control panel at the top, choose Cell > Cell Type > Markdown\n",
    "   - Markdown syntax: http://nestacms.com/docs/creating-content/markdown-cheat-sheet\n",
    "\n",
    "#### Resources\n",
    "\n",
    "+ Information and data sources: http://www.amstat.org/publications/jse/datasets/normtemp.txt, http://www.amstat.org/publications/jse/jse_data_archive.htm\n",
    "+ Markdown syntax: http://nestacms.com/docs/creating-content/markdown-cheat-sheet\n",
    "\n",
    "****"
   ]
  },
  {
   "cell_type": "code",
   "execution_count": 64,
   "metadata": {
    "collapsed": false
   },
   "outputs": [],
   "source": [
    "%matplotlib inline\n",
    "\n",
    "import numpy as np\n",
    "import scipy.stats \n",
    "\n",
    "import matplotlib.pyplot as plt\n",
    "import pandas as pd\n",
    "\n",
    "# seed the random number generator for result conformity\n",
    "np.random.seed(18)\n",
    "\n",
    "# some nicer colors from http://colorbrewer2.org/\n",
    "COLOR1 = '#7fc97f'\n",
    "COLOR2 = '#beaed4'\n",
    "COLOR3 = '#fdc086'\n",
    "COLOR4 = '#ffff99'\n",
    "COLOR5 = '#386cb0'\n"
   ]
  },
  {
   "cell_type": "code",
   "execution_count": 65,
   "metadata": {
    "collapsed": false
   },
   "outputs": [],
   "source": [
    "df0 = pd.read_csv('data/human_body_temperature.csv')"
   ]
  },
  {
   "cell_type": "code",
   "execution_count": 66,
   "metadata": {
    "collapsed": false
   },
   "outputs": [
    {
     "data": {
      "image/png": "[encoded data removed]",
      "text/plain": [
       "<matplotlib.figure.Figure at 0x7f98539ec400>"
      ]
     },
     "metadata": {},
     "output_type": "display_data"
    }
   ],
   "source": [
    "\n",
    "#Q1: Is the distribution of body temperatures normal?\n",
    "\n",
    "#Clean the data (in case there are any empty spaces)\n",
    "df=df0['temperature'].replace('', np.nan)\n",
    "df=df.dropna()\n",
    "\n",
    "#Male temperatures dataset\n",
    "dfm=df0[df0.gender == 'M']\n",
    "dfm=dfm['temperature'].replace().replace('', np.nan).dropna()\n",
    "\n",
    "#Female temperatures dataset\n",
    "dff=df0[df0.gender == 'F']\n",
    "dff=dff['temperature'].replace().replace('', np.nan).dropna()\n",
    "\n",
    "#Calculate sample mean and standard deviation\n",
    "Tmean=np.mean(df)\n",
    "Tstd= np.std(df)\n",
    "\n",
    "#Generate normal distribution based on the sample meand and standard deviation\n",
    "Stats= scipy.stats.norm(Tmean, Tstd)\n",
    "\n",
    "    \n",
    "#Plot the frequency distribution of body temperatures and compare it with normal distribution with the same parameters.\n",
    "xs = np.linspace(96, 101, 90)\n",
    "ys = Stats.pdf(xs)\n",
    "plt.plot(xs, ys, linewidth=4, color=COLOR1)\n",
    "plt.xlabel('Temperature (F)')\n",
    "plt.ylabel('Probability Density Function')\n",
    "plt.hist(df, bins = 10, normed = True)\n",
    "plt.show()\n",
    "   "
   ]
  },
  {
   "cell_type": "markdown",
   "metadata": {},
   "source": [
    "Q1 Response: The sample data visually approximates normal distribution. "
   ]
  },
  {
   "cell_type": "code",
   "execution_count": 67,
   "metadata": {
    "collapsed": false
   },
   "outputs": [
    {
     "data": {
      "text/plain": [
       "130"
      ]
     },
     "execution_count": 67,
     "metadata": {},
     "output_type": "execute_result"
    }
   ],
   "source": [
    "#Q2: Is the true population mean really 98.6 degrees F?\n",
    "# z-test or a t-test? How will the result be different?\n",
    "\n",
    "#Determine sample size:\n",
    "len(df)\n",
    "\n",
    "#For sample sizes greater than 30, the central limit theorem can be used to describe the population distribution.\n",
    "#Z-test statistic can be used for hypothesis testing."
   ]
  },
  {
   "cell_type": "code",
   "execution_count": 68,
   "metadata": {
    "collapsed": false
   },
   "outputs": [],
   "source": [
    "def summarize_sampling_distribution(sample_stats):\n",
    "    z_stat= (PTmean-sample_stats.mean())/sample_stats.std()\n",
    "    p_value = (scipy.stats.norm.sf(abs(z_stat))*2)\n",
    "    t_stat = scipy.stats.ttest_1samp(sample_stats, popmean=PTmean)\n",
    "    \n",
    "    print('Resampled Data Z-score: ', z_stat)\n",
    "    print('Resampled Data P-value: ', p_value)\n",
    "    print('Resampled Data t-score: ', t_stat,'\\n')\n",
    "    print('Standard Error: ', sample_stats.std())\n",
    "    print('90% CI: ', np.percentile(sample_stats, [5, 95]))\n",
    "    \n",
    "\n",
    "\n",
    "class Resampler(object):\n",
    "    \"\"\"Represents a framework for computing sampling distributions.\"\"\"\n",
    "    \n",
    "    def __init__(self, sample, xlim=None):\n",
    "        \"\"\"Stores the actual sample.\"\"\"\n",
    "        self.sample = sample\n",
    "        self.n = len(sample)-1\n",
    "        self.xlim = xlim\n",
    "        \n",
    "    def resample(self):\n",
    "        \"\"\"Generates a new sample by choosing from the original\n",
    "        sample with replacement.\n",
    "        \"\"\"\n",
    "        new_sample = np.random.choice(self.sample, self.n, replace=True)\n",
    "        return new_sample\n",
    "    \n",
    "    def sample_stat(self, sample):\n",
    "        \"\"\"Computes a sample statistic using the original sample or a\n",
    "        simulated sample.\n",
    "        \"\"\"\n",
    "        return sample.mean() \n",
    "    \n",
    "    def compute_sample_statistics(self, iters=1000):\n",
    "        \"\"\"Simulates many experiments and collects the resulting sample\n",
    "        statistics.\n",
    "        \"\"\"\n",
    "        stats = [self.sample_stat(self.resample()) for i in range(iters)]\n",
    "        return np.array(stats)\n",
    "    \n",
    "    def plot_sample_stats(self):\n",
    "        \"\"\"Runs simulated experiments and summarizes the results.\n",
    "        \"\"\"\n",
    "        sample_stats = self.compute_sample_statistics()\n",
    "        summarize_sampling_distribution(sample_stats)\n",
    "        plt.hist(sample_stats, color=COLOR2)\n",
    "        plt.xlabel('sample statistic')\n",
    "        plt.xlim(self.xlim)"
   ]
  },
  {
   "cell_type": "code",
   "execution_count": 69,
   "metadata": {
    "collapsed": true
   },
   "outputs": [],
   "source": [
    "def plot_resampled_stats(n):\n",
    "        sample = Mtemps.rvs(n)\n",
    "        resampler = Resampler(sample, xlim=[98, 98.5])\n",
    "        resampler.plot_sample_stats()"
   ]
  },
  {
   "cell_type": "code",
   "execution_count": 70,
   "metadata": {
    "collapsed": false
   },
   "outputs": [
    {
     "name": "stdout",
     "output_type": "stream",
     "text": [
      "Resampled Data Z-score:  3.30641463085\n",
      "Resampled Data P-value:  0.00094498140647\n",
      "Resampled Data t-score:  Ttest_1sampResult(statistic=-104.50571914189634, pvalue=0.0) \n",
      "\n",
      "Standard Error:  0.0687690348542\n",
      "90% CI:  [ 98.25820808  98.48685873]\n"
     ]
    },
    {
     "data": {
      "image/png": "[encoded data removed]",
      "text/plain": [
       "<matplotlib.figure.Figure at 0x7f9850b3b0b8>"
      ]
     },
     "metadata": {},
     "output_type": "display_data"
    }
   ],
   "source": [
    "#Null Hypothesis: True population mean <> sample mean\n",
    "PTmean=98.6\n",
    "\n",
    "#Alternative Hypothesis: True population mean = sample mean\n",
    "\n",
    "#Sample size(n-1):\n",
    "n=len(df)-1\n",
    "\n",
    "#Model the population distribution using the normal distribution function:\n",
    "Mtemps = scipy.stats.norm(loc = Tmean, scale = Tstd)\n",
    "\n",
    "#Z-Test stats output:\n",
    "plot_resampled_stats(n=129)\n"
   ]
  },
  {
   "cell_type": "markdown",
   "metadata": {
    "collapsed": false
   },
   "source": [
    "Q2 Response: \n",
    "\n",
    "98.6F lies more than 4 standard deviations from the sample mean. The low P-value (less than 5%) also indicates the low probability of the population body temperature mean being equal to 98.6F. \n",
    "\n",
    "90% confidence interval indicates that population mean lies between 98.11F and 98.35F, which is below 98.6F.\n",
    "\n",
    "These tests show that the null hypothesis can be rejected at 5% significance level. T-test shows similar results. "
   ]
  },
  {
   "cell_type": "code",
   "execution_count": 71,
   "metadata": {
    "collapsed": false
   },
   "outputs": [],
   "source": [
    "#Q3: At what temperature should we consider someone's temperature to be \"abnormal\"?\n",
    "#Start by computing the margin of error and confidence interval."
   ]
  },
  {
   "cell_type": "markdown",
   "metadata": {
    "collapsed": true
   },
   "source": [
    "Q3 Response: Margin of erro and Confidence Interval are calculated above. \n",
    "\n",
    "90% confidence interval can be used to identify 'abnormal' temperatures. Body temperatures above 98.35F or below 98.13F can be considered abnormal. \n"
   ]
  },
  {
   "cell_type": "code",
   "execution_count": 72,
   "metadata": {
    "collapsed": false
   },
   "outputs": [
    {
     "name": "stdout",
     "output_type": "stream",
     "text": [
      "Sample mean temperature-Males:  98.1046153846154\n",
      "Sample std temperature-Males:  0.6987557623265908 \n",
      "\n",
      "Sample mean temperature-Females:  98.39384615384613\n",
      "Sample std temperature-Females:  0.7434877527313665 \n",
      "\n",
      "Absolute mean difference between males and females:  0.289230769230727\n"
     ]
    }
   ],
   "source": [
    "#Q4: Is there a significant difference between males and females in normal temperature?\n",
    "# Set up and solve for a two sample hypothesis testing.\n",
    "\n",
    "#Calculate mean and standard deviation:\n",
    "\n",
    "#Female Statistics:\n",
    "Smeanf=dff.mean()\n",
    "Sstdf=dff.std()\n",
    "\n",
    "#Male Statistics:\n",
    "Smeanm=dfm.mean()\n",
    "Sstdm=dfm.std()\n",
    "\n",
    "Adiff=abs(Smeanf-Smeanm)\n",
    "\n",
    "print('Sample mean temperature-Males: ', Smeanm)\n",
    "print('Sample std temperature-Males: ', Sstdm, '\\n')\n",
    "print('Sample mean temperature-Females: ', Smeanf)\n",
    "print('Sample std temperature-Females: ', Sstdf, '\\n')\n",
    "print('Absolute mean difference between males and females: ', Adiff )"
   ]
  },
  {
   "cell_type": "code",
   "execution_count": 73,
   "metadata": {
    "collapsed": false
   },
   "outputs": [
    {
     "data": {
      "image/png": "[encoded data removed]",
      "text/plain": [
       "<matplotlib.figure.Figure at 0x7f98509ecef0>"
      ]
     },
     "metadata": {},
     "output_type": "display_data"
    }
   ],
   "source": [
    "#Temperature samples for men and women show slightly different means and standard deviations.\n",
    "#To test if these differences can be explained by randomness we need to set up a hypothesis test.\n",
    "\n",
    "#Null hypothesis: there is no difference in body temperatures between males and females at 5% significance level.\n",
    "#Alternative hypothesis: differences in body temperatures between males and females are significant to be explained\n",
    "#by randomness.\n",
    "\n",
    "#Create a pooled sample:\n",
    "m, f = len(dfm), len(dff)\n",
    "pool =np.hstack((dfm,dff))\n",
    "\n",
    "#Generate a test statistic for comparing differences in sample means.\n",
    "def TStatistic(data):\n",
    "    m, f = data\n",
    "    test_stat = abs(m.mean() - f.mean())\n",
    "    return test_stat\n",
    "\n",
    "#Actual difference in temperatures between males and females stored in 'Adiff' variable for benchmarking\n",
    "Adiff\n",
    "\n",
    "#Reshuffle the pool data and create two different datasets of the same size\n",
    "def RModel():\n",
    "    np.random.shuffle(pool)\n",
    "    data=pool[:m], pool[m:]\n",
    "    return data\n",
    "\n",
    "#Generate randomized mean temperature differences in two equally-sized population groups  \n",
    "tstats=np.array([TStatistic(RModel()) for i in range (1000)])\n",
    "\n",
    "\n",
    "plt.vlines(Adiff, 0, 300, linewidth=3, color='0.8')\n",
    "plt.hist(tstats, color=COLOR1)\n",
    "plt.xlabel('difference in temperature means')\n",
    "plt.ylabel('count')\n",
    "None"
   ]
  },
  {
   "cell_type": "code",
   "execution_count": 74,
   "metadata": {
    "collapsed": false
   },
   "outputs": [
    {
     "data": {
      "text/plain": [
       "0.02"
      ]
     },
     "execution_count": 74,
     "metadata": {},
     "output_type": "execute_result"
    }
   ],
   "source": [
    "#Test to see if the null hypothesis is correct:\n",
    "\n",
    "p_val = sum(tstats >= Adiff)/len(tstats)\n",
    "\n",
    "p_val\n"
   ]
  },
  {
   "cell_type": "markdown",
   "metadata": {},
   "source": [
    "Q4 Response: \n",
    "\n",
    "Based on the p-value of approximately 0.02, the difference between the male and female mean body temperatures is unlikely to be explained by randomness. At 5% significance level, the null hypothesis (i.e. no difference between mean male and female body temperatures) can be rejected."
   ]
  },
  {
   "cell_type": "code",
   "execution_count": null,
   "metadata": {
    "collapsed": true
   },
   "outputs": [],
   "source": []
  },
  {
   "cell_type": "code",
   "execution_count": null,
   "metadata": {
    "collapsed": true
   },
   "outputs": [],
   "source": []
  },
  {
   "cell_type": "code",
   "execution_count": null,
   "metadata": {
    "collapsed": true
   },
   "outputs": [],
   "source": []
  },
  {
   "cell_type": "code",
   "execution_count": null,
   "metadata": {
    "collapsed": true
   },
   "outputs": [],
   "source": []
  }
 ],
 "metadata": {
  "kernelspec": {
   "display_name": "Python 3",
   "language": "python",
   "name": "python3"
  },
  "language_info": {
   "codemirror_mode": {
    "name": "ipython",
    "version": 3
   },
   "file_extension": ".py",
   "mimetype": "text/x-python",
   "name": "python",
   "nbconvert_exporter": "python",
   "pygments_lexer": "ipython3",
   "version": "3.5.1"
  }
 },
 "nbformat": 4,
 "nbformat_minor": 0
}
